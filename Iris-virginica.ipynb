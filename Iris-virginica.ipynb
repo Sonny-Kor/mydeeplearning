{
 "cells": [
  {
   "cell_type": "code",
   "execution_count": 1,
   "metadata": {},
   "outputs": [
    {
     "ename": "SyntaxError",
     "evalue": "(unicode error) 'unicodeescape' codec can't decode bytes in position 2-3: truncated \\UXXXXXXXX escape (2642819251.py, line 4)",
     "output_type": "error",
     "traceback": [
      "\u001b[1;36m  File \u001b[1;32m\"C:\\Users\\82107\\AppData\\Local\\Temp\\ipykernel_10372\\2642819251.py\"\u001b[1;36m, line \u001b[1;32m4\u001b[0m\n\u001b[1;33m    df = pd.read_csv(\"C:\\Users\\82107\\OneDrive - kumoh.ac.kr\\연구실\\연구실 딥러닝\\deeplearning\\dataset\\iris.csv\", name=[\"sepal_length\",\"sepal_width\",\"petal_length\",\"petal_width\",\"species\"])\u001b[0m\n\u001b[1;37m                    ^\u001b[0m\n\u001b[1;31mSyntaxError\u001b[0m\u001b[1;31m:\u001b[0m (unicode error) 'unicodeescape' codec can't decode bytes in position 2-3: truncated \\UXXXXXXXX escape\n"
     ]
    }
   ],
   "source": [
    "import seaborn as sns\n",
    "import matplotlib.pyplot as plt\n",
    "import pandas as pd\n",
    "df = pd.read_csv(\"C:\\\\Users\\\\82107\\\\OneDrive - kumoh.ac.kr\\\\연구실\\\\연구실 딥러닝\\\\deeplearning\\\\dataset\\\\iris.csv\", name=[\"sepal_length\",\"sepal_width\",\"petal_length\",\"petal_width\",\"species\"])\n",
    "print(df.head())"
   ]
  }
 ],
 "metadata": {
  "kernelspec": {
   "display_name": "Python 3",
   "language": "python",
   "name": "python3"
  },
  "language_info": {
   "codemirror_mode": {
    "name": "ipython",
    "version": 3
   },
   "file_extension": ".py",
   "mimetype": "text/x-python",
   "name": "python",
   "nbconvert_exporter": "python",
   "pygments_lexer": "ipython3",
   "version": "3.7.4"
  },
  "orig_nbformat": 4,
  "vscode": {
   "interpreter": {
    "hash": "9e7d969fc1f989d052dd3a0fc8ca8a380c02739a8a3bfb646f9a02dd109e8719"
   }
  }
 },
 "nbformat": 4,
 "nbformat_minor": 2
}
